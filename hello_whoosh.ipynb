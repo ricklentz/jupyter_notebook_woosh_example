{
 "cells": [
  {
   "cell_type": "markdown",
   "metadata": {},
   "source": [
    "This notebook walks through using Whoosh for indexing and searching the Stanford movie reviews dataset.\n"
   ]
  },
  {
   "cell_type": "markdown",
   "metadata": {},
   "source": [
    "Hat tip to Abhijeet Kumar for https://appliedmachinelearning.blog/2018/07/31/developing-a-fast-indexing-and-full-text-search-engine-with-whoosh-a-pure-python-library/"
   ]
  },
  {
   "cell_type": "code",
   "execution_count": null,
   "metadata": {},
   "outputs": [],
   "source": [
    "# install Whoosh if needed\n",
    "# !pip install Whoosh"
   ]
  },
  {
   "cell_type": "code",
   "execution_count": 1,
   "metadata": {},
   "outputs": [
    {
     "name": "stdout",
     "output_type": "stream",
     "text": [
      "--2019-01-22 14:58:19--  http://ai.stanford.edu/~amaas/data/sentiment/aclImdb_v1.tar.gz\n",
      "Resolving ai.stanford.edu (ai.stanford.edu)... 171.64.68.10\n",
      "Connecting to ai.stanford.edu (ai.stanford.edu)|171.64.68.10|:80... connected.\n",
      "HTTP request sent, awaiting response... 200 OK\n",
      "Length: 84125825 (80M) [application/x-gzip]\n",
      "Saving to: ‘aclImdb_v1.tar.gz’\n",
      "\n",
      "aclImdb_v1.tar.gz   100%[===================>]  80.23M  22.0MB/s    in 5.9s    \n",
      "\n",
      "2019-01-22 14:58:25 (13.5 MB/s) - ‘aclImdb_v1.tar.gz’ saved [84125825/84125825]\n",
      "\n"
     ]
    }
   ],
   "source": [
    "!wget http://ai.stanford.edu/~amaas/data/sentiment/aclImdb_v1.tar.gz"
   ]
  },
  {
   "cell_type": "code",
   "execution_count": 2,
   "metadata": {},
   "outputs": [],
   "source": [
    "!tar xzf aclImdb_v1.tar.gz"
   ]
  },
  {
   "cell_type": "code",
   "execution_count": 20,
   "metadata": {},
   "outputs": [],
   "source": [
    "# remove meta files\n",
    "!rm aclImdb/imdb.vocab\n",
    "!rm aclImdb/imdbEr.txt\n",
    "!rm aclImdb/README\n",
    "!rm aclImdb/train/labeledBow.feat\n",
    "!rm aclImdb/train/unsupBow.feat\n",
    "!rm aclImdb/train/urls_neg.txt\n",
    "!rm aclImdb/train/urls_pos.txt\n",
    "!rm aclImdb/train/urls_unsup.txt\n",
    "!rm aclImdb/test/labeledBow.feat\n",
    "!rm aclImdb/test/urls_neg.txt\n",
    "!rm aclImdb/test/urls_pos.txt"
   ]
  },
  {
   "cell_type": "markdown",
   "metadata": {},
   "source": [
    "With the data ready to go, lets build an index"
   ]
  },
  {
   "cell_type": "code",
   "execution_count": 32,
   "metadata": {},
   "outputs": [],
   "source": [
    "# scrub the files on the fly\n",
    "def get_cleaned_string(in_string):\n",
    "    safechars = 'abcdefghijklmnopqrstuvwxyzABCDEFGHIJKLMNOPQRSTUVWXYZ1234567890 -./'\n",
    "    cleaned_list = []\n",
    "    for s in in_string:\n",
    "        if s in safechars:\n",
    "            cleaned_list.append(s)\n",
    "        else:\n",
    "            cleaned_list.append(' ')\n",
    "    return ''.join(cleaned_list)\n"
   ]
  },
  {
   "cell_type": "code",
   "execution_count": 42,
   "metadata": {},
   "outputs": [],
   "source": [
    "import os, glob\n",
    "\n",
    "from whoosh.index import create_in\n",
    "from whoosh.fields import Schema, TEXT, ID\n",
    "import sys\n",
    " \n",
    "def createSearchableData(root):   \n",
    " \n",
    "    '''\n",
    "    Schema definition: title(name of file), path(as ID), content(indexed\n",
    "    but not stored),textdata (stored text content)\n",
    "    '''\n",
    "    schema = Schema(title=TEXT(stored=True),path=ID(stored=True),\\\n",
    "              content=TEXT,textdata=TEXT(stored=True))\n",
    "    if not os.path.exists(\"indexdir\"):\n",
    "        os.mkdir(\"indexdir\")\n",
    " \n",
    "    # Creating a index writer to add document as per schema\n",
    "    ix = create_in(\"indexdir\",schema)\n",
    "    writer = ix.writer()\n",
    "     \n",
    "    for filename in glob.iglob(root + '/**/*.txt', recursive=True):\n",
    "        with open(filename) as f:\n",
    "            data = f.read().replace('\\n', '')\n",
    "            text = get_cleaned_string(data)\n",
    "            writer.add_document(title=os.path.basename(f.name), path=os.path.realpath(f.name),content=text,textdata=text)\n",
    "    writer.commit()\n",
    " "
   ]
  },
  {
   "cell_type": "code",
   "execution_count": 43,
   "metadata": {},
   "outputs": [],
   "source": [
    "# remove the old index and rebuild for this data domain\n",
    "!rm -rdf indexdir\n",
    "root = \"aclImdb\"\n",
    "createSearchableData(root)"
   ]
  },
  {
   "cell_type": "markdown",
   "metadata": {},
   "source": [
    "Now that we have built the index, lets query it"
   ]
  },
  {
   "cell_type": "code",
   "execution_count": 50,
   "metadata": {},
   "outputs": [
    {
     "name": "stdout",
     "output_type": "stream",
     "text": [
      "42455_0.txt 36.0 If you consider yourself a James Bond fan and yet enjoyed this film  there is a problem. br /  br / Just like everyone else  when I first saw that Daniel Craig was to replace Pierce Brosnan in the role  I was a bit confused. His ice cold looks seemed to be quite a stretch from the image we have of James Bond. Maybe  they  know some things I don t about 007  maybe I ve been missing something about the character. Plus the hype around the production was excellent the rumor was that the filmmakers have decided to be more daring in many aspects. Nothing wrong with that  as a long as you know what you re doing. br /  br / But at the very first frame of the film my original skepticism re-emerged  br /  br / The opening scene happens in a sombre black and white cold war setting in which Bond makes no spectacular entrance  chatting with his enemy and finishing the mission with his fists inside a...dirty public restroom. Then Bond spins around  aiming his gun at the camera  taking the classic pose. Right then  I couldn t help myself but noticing the restroom tiles in the background    and this blond muscular hunk in the center of the screen suggesting    I am your NEW James Bond  .  Not yet gentlemen  did I think. br /  br / Still  let s give them a second chance  here comes the long-awaited opening credits. A beautiful animation of paisley patterns and stylized men fighting in slow-motion turning into flying hearts spades clubs and diamonds at each blow. But something is missing  where are the gorgeous nude feminine silhouettes  Where are the girls  Gone     Why       At this point  I feared the worst  did the producers decide purposely to get rid of everything we actually loved about James Bond    br /  br / But here comes hope James Bond chases a man through a building site climbing on cranes  jumping and falling hard. Great  this might not be a real James Bond flick  but at least  we re in for some good entertainment. Right  br /  br / Wrong  The rest of the film is nothing but a long  two and a half hours long  demonstration on how to annihilate a movie landmark character. br /  br / No Monneypenny no  Q  no  R   and every time  M   Judi Drench  appears on the screen  the ONLY thing she ever does is begging Bond to stop doing what he s doing and come back to his senses. Yet all I could hear from her was   What have you done to James Bond  Who are you  blond man   Why don t you ever smile  Why don t you ever say anything witty  How come the only gadget you use is a cell phone  How dare you wreck THE 1964 Aston Martin in only 3 minutes  How could you fall in love with such a boring girl  What do you want from us  Bring us back England s most precious hero   br /  br / The other characters barely exist  The villain  named Le Chiffre  is a card player who s task is to finance terrorism by playing poker. Does he cheat   no. Why  He might be a villain  but will not take his cruelty as far as... cheating  We know he s the villain since his left eye bleeds once in a while and he acts like everything is fine. Who knows maybe someday we ll get to see a villain who plays Monopoly with a runny nose. So scary. br /  br / Then I thought   I get it  His damaged eye is in fact a technological wonder that allows him to see the other player s cards thanks to the mysterious blond girl  in the background  who s eye is a camera placed surgically inside her head and feeds Le Chiffre with her own vision  Great  . Was I right   Of course not  that would be something you d see in a James Bond film... br /  br / But here comes the most sacrilegious scene EVER to come out of a James Bond film  br /  br / James Bond  let s keep using this name  for the lack of a better one  is taken prisoner and dragged in a basement  he is entirely stripped from his clothes and attached on a chair without a seat  letting 007 s  genitals  dangling from underneath  Yes you heard right . Le Chiffre proceeds to swing a large heavy rope and hits her majesty s favorite secret agent s nuts over and over. Bond screams in pain but does not reveal the bank account number. What a man. Does he escape  Does he fight back in the most ingenious manner and eliminates his torturer  No  he passes out and wakes up in a hospital. br /  br / The torture may have stopped for Bond  but increases for me  Bond finds comfort in the arms of his girlfriend Vesper  yes  girlfriend  who tells him  to rebuild his pride  that even if the only thing left from him was his little finger  she would still love him. To which  the emasculated James Bond replies  watch out  humor coming your way    That s because you know what I can do with my little finger.  Can we please stop talking about mister Bond smashed testicles and go on with this never-ending-going-nowhere-story   And don t we know that if Bond was ever blown to smithereens  the only thing left from him should precisely be his genitals  br /  br / There were other problems with the film of course such as the boring story  and the fact that the casino  which seemed to be the perfect setting for a James Bond film  turned out to be so poorly exploited. br /  br / Giving this film one star might not be fair  do you ever read a review unless it has a 1 or a 10 star rating   but the main problem goes beyond the bad choices added by the filmmakers throughout the film. The problem is that the film was made with the wrong  spirit  and doesn t take in consideration that  unlike other movies  James Bond belongs more to the public than to its makers  and that this rare fact deserves to be honored. br /  br / Don t mess with MY James Bond.\n"
     ]
    }
   ],
   "source": [
    "from whoosh.qparser import QueryParser\n",
    "from whoosh import scoring\n",
    "from whoosh.index import open_dir\n",
    " \n",
    "ix = open_dir(\"indexdir\")\n",
    " \n",
    "# query_str is query string\n",
    "query_str = \"James Bond\"\n",
    "# Top 'n' documents as result\n",
    "topN = 1\n",
    " \n",
    "with ix.searcher(weighting=scoring.Frequency) as searcher:\n",
    "    query = QueryParser(\"content\", ix.schema).parse(query_str)\n",
    "    results = searcher.search(query,limit=topN)\n",
    "\n",
    "    for i in range(topN):\n",
    "        print(results[i]['title'], str(results[i].score),\n",
    "        results[i]['textdata'] )#results[i]['path']"
   ]
  },
  {
   "cell_type": "code",
   "execution_count": null,
   "metadata": {},
   "outputs": [],
   "source": []
  }
 ],
 "metadata": {
  "kernelspec": {
   "display_name": "Python 3",
   "language": "python",
   "name": "python3"
  },
  "language_info": {
   "codemirror_mode": {
    "name": "ipython",
    "version": 3
   },
   "file_extension": ".py",
   "mimetype": "text/x-python",
   "name": "python",
   "nbconvert_exporter": "python",
   "pygments_lexer": "ipython3",
   "version": "3.6.6"
  }
 },
 "nbformat": 4,
 "nbformat_minor": 2
}
